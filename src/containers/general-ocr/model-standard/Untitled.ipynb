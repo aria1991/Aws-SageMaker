{
 "cells": [
  {
   "cell_type": "code",
   "execution_count": 1,
   "id": "a7d5f085-f077-4546-b4e7-d2dc51bec214",
   "metadata": {},
   "outputs": [],
   "source": [
    "from gevent import pywsgi\n",
    "import flask\n",
    "import json\n",
    "import infer_ocr_app\n",
    "\n",
    "app = flask.Flask(__name__)"
   ]
  },
  {
   "cell_type": "code",
   "execution_count": 2,
   "id": "fa28bc37-7ecd-47b0-9c57-ce8e68410e03",
   "metadata": {},
   "outputs": [],
   "source": [
    "@app.route('/ping', methods=['GET'])\n",
    "def ping():\n",
    "    \"\"\"\n",
    "    Determine if the container is working and healthy. In this sample container, we declare\n",
    "    it healthy if we can load the model successfully.\n",
    "    :return:\n",
    "    \"\"\"\n",
    "    status = 200\n",
    "    return flask.Response(response='\\n', status=status, mimetype='application/json')"
   ]
  },
  {
   "cell_type": "code",
   "execution_count": 3,
   "id": "003b7f39-c225-428e-a63d-4a294aa127ce",
   "metadata": {},
   "outputs": [],
   "source": [
    "@app.route('/invocations', methods=['POST'])\n",
    "def transformation():\n",
    "    \"\"\"\n",
    "    Do an inference on a single batch of data. In this sample server, we take image data as base64 formation,\n",
    "    decode it for internal use and then convert the predictions to json format\n",
    "    :return:\n",
    "    \"\"\"\n",
    "    if flask.request.content_type == 'application/json':\n",
    "        request_body = flask.request.data.decode('utf-8')\n",
    "        body = json.loads(request_body)\n",
    "        req = infer_ocr_app.handler(body, None)\n",
    "        return flask.Response(\n",
    "            response=req['body'],\n",
    "            status=req['statusCode'], mimetype='application/json')\n",
    "    else:\n",
    "        return flask.Response(\n",
    "            response='Only supports application/json data',\n",
    "            status=415, mimetype='application/json')"
   ]
  },
  {
   "cell_type": "code",
   "execution_count": null,
   "id": "79feb6a0-16d1-4934-80ff-7b84d79d24d3",
   "metadata": {},
   "outputs": [
    {
     "name": "stderr",
     "output_type": "stream",
     "text": [
      "[2022-11-30 14:12:27,011] ERROR in app: Exception on /invocations [POST]\n",
      "Traceback (most recent call last):\n",
      "  File \"/home/ubuntu/anaconda3/envs/pytorch_p39/lib/python3.9/site-packages/flask/app.py\", line 2525, in wsgi_app\n",
      "    response = self.full_dispatch_request()\n",
      "  File \"/home/ubuntu/anaconda3/envs/pytorch_p39/lib/python3.9/site-packages/flask/app.py\", line 1823, in full_dispatch_request\n",
      "    return self.finalize_request(rv)\n",
      "  File \"/home/ubuntu/anaconda3/envs/pytorch_p39/lib/python3.9/site-packages/flask/app.py\", line 1842, in finalize_request\n",
      "    response = self.make_response(rv)\n",
      "  File \"/home/ubuntu/anaconda3/envs/pytorch_p39/lib/python3.9/site-packages/flask/app.py\", line 2134, in make_response\n",
      "    raise TypeError(\n",
      "TypeError: The view function for 'transformation' did not return a valid response. The function either returned None or ended without a return statement.\n"
     ]
    },
    {
     "name": "stdout",
     "output_type": "stream",
     "text": [
      "{'img': '1'}\n"
     ]
    },
    {
     "name": "stderr",
     "output_type": "stream",
     "text": [
      "127.0.0.1 - - [2022-11-30 14:12:27] \"POST /invocations HTTP/1.1\" 500 401 0.002654\n"
     ]
    }
   ],
   "source": [
    "server = pywsgi.WSGIServer(('0.0.0.0', 8080), app)\n",
    "server.serve_forever()"
   ]
  },
  {
   "cell_type": "code",
   "execution_count": null,
   "id": "82be3e28-610c-49ab-b08f-05b8f3c4d213",
   "metadata": {},
   "outputs": [],
   "source": [
    "req = \n",
    "\n",
    "'statusCode': statusCode,\n",
    "        'headers':"
   ]
  }
 ],
 "metadata": {
  "kernelspec": {
   "display_name": "Environment (conda_pytorch_p39)",
   "language": "python",
   "name": "conda_pytorch_p39"
  },
  "language_info": {
   "codemirror_mode": {
    "name": "ipython",
    "version": 3
   },
   "file_extension": ".py",
   "mimetype": "text/x-python",
   "name": "python",
   "nbconvert_exporter": "python",
   "pygments_lexer": "ipython3",
   "version": "3.9.13"
  }
 },
 "nbformat": 4,
 "nbformat_minor": 5
}
